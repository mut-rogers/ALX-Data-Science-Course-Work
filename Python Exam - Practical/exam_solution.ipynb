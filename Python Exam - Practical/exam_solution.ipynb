{
 "cells": [
  {
   "cell_type": "code",
   "execution_count": 103,
   "id": "410057fd",
   "metadata": {},
   "outputs": [],
   "source": [
    "import pandas as pd \n",
    "import numpy as np \n",
    "import seaborn as sns \n",
    "import matplotlib.pyplot as plt"
   ]
  },
  {
   "cell_type": "code",
   "execution_count": 2,
   "id": "efdad96c",
   "metadata": {},
   "outputs": [
    {
     "data": {
      "text/html": [
       "<div>\n",
       "<style scoped>\n",
       "    .dataframe tbody tr th:only-of-type {\n",
       "        vertical-align: middle;\n",
       "    }\n",
       "\n",
       "    .dataframe tbody tr th {\n",
       "        vertical-align: top;\n",
       "    }\n",
       "\n",
       "    .dataframe thead th {\n",
       "        text-align: right;\n",
       "    }\n",
       "</style>\n",
       "<table border=\"1\" class=\"dataframe\">\n",
       "  <thead>\n",
       "    <tr style=\"text-align: right;\">\n",
       "      <th></th>\n",
       "      <th>Field_ID</th>\n",
       "      <th>Elevation</th>\n",
       "      <th>Rainfall</th>\n",
       "      <th>Min_temperature_C</th>\n",
       "      <th>Max_temperature_C</th>\n",
       "      <th>pH</th>\n",
       "      <th>Pollution_level</th>\n",
       "      <th>Plot_size</th>\n",
       "      <th>Annual_yield</th>\n",
       "      <th>Crop_type</th>\n",
       "    </tr>\n",
       "  </thead>\n",
       "  <tbody>\n",
       "    <tr>\n",
       "      <th>0</th>\n",
       "      <td>1162</td>\n",
       "      <td>494.95615</td>\n",
       "      <td>1507.6</td>\n",
       "      <td>-5.4</td>\n",
       "      <td>31.0</td>\n",
       "      <td>6.859436</td>\n",
       "      <td>0.007034</td>\n",
       "      <td>3.6</td>\n",
       "      <td>1.617421</td>\n",
       "      <td>coffee</td>\n",
       "    </tr>\n",
       "    <tr>\n",
       "      <th>1</th>\n",
       "      <td>5108</td>\n",
       "      <td>663.73390</td>\n",
       "      <td>581.0</td>\n",
       "      <td>-4.7</td>\n",
       "      <td>30.9</td>\n",
       "      <td>5.603219</td>\n",
       "      <td>0.289643</td>\n",
       "      <td>4.2</td>\n",
       "      <td>2.532497</td>\n",
       "      <td>potato</td>\n",
       "    </tr>\n",
       "    <tr>\n",
       "      <th>2</th>\n",
       "      <td>3504</td>\n",
       "      <td>396.87990</td>\n",
       "      <td>1715.1</td>\n",
       "      <td>-6.1</td>\n",
       "      <td>31.7</td>\n",
       "      <td>5.774116</td>\n",
       "      <td>0.000409</td>\n",
       "      <td>2.6</td>\n",
       "      <td>1.262207</td>\n",
       "      <td>banana</td>\n",
       "    </tr>\n",
       "    <tr>\n",
       "      <th>3</th>\n",
       "      <td>5351</td>\n",
       "      <td>594.80370</td>\n",
       "      <td>1748.0</td>\n",
       "      <td>-4.3</td>\n",
       "      <td>33.6</td>\n",
       "      <td>6.477415</td>\n",
       "      <td>0.088777</td>\n",
       "      <td>7.9</td>\n",
       "      <td>4.351564</td>\n",
       "      <td>wheat</td>\n",
       "    </tr>\n",
       "    <tr>\n",
       "      <th>4</th>\n",
       "      <td>905</td>\n",
       "      <td>609.49800</td>\n",
       "      <td>1395.8</td>\n",
       "      <td>-4.5</td>\n",
       "      <td>31.3</td>\n",
       "      <td>5.419586</td>\n",
       "      <td>0.050023</td>\n",
       "      <td>10.8</td>\n",
       "      <td>5.034791</td>\n",
       "      <td>cassava</td>\n",
       "    </tr>\n",
       "  </tbody>\n",
       "</table>\n",
       "</div>"
      ],
      "text/plain": [
       "   Field_ID  Elevation  Rainfall  Min_temperature_C  Max_temperature_C  \\\n",
       "0      1162  494.95615    1507.6               -5.4               31.0   \n",
       "1      5108  663.73390     581.0               -4.7               30.9   \n",
       "2      3504  396.87990    1715.1               -6.1               31.7   \n",
       "3      5351  594.80370    1748.0               -4.3               33.6   \n",
       "4       905  609.49800    1395.8               -4.5               31.3   \n",
       "\n",
       "         pH  Pollution_level  Plot_size  Annual_yield Crop_type  \n",
       "0  6.859436         0.007034        3.6      1.617421    coffee  \n",
       "1  5.603219         0.289643        4.2      2.532497    potato  \n",
       "2  5.774116         0.000409        2.6      1.262207    banana  \n",
       "3  6.477415         0.088777        7.9      4.351564     wheat  \n",
       "4  5.419586         0.050023       10.8      5.034791   cassava  "
      ]
     },
     "execution_count": 2,
     "metadata": {},
     "output_type": "execute_result"
    }
   ],
   "source": [
    "# Loading the dataset \n",
    "dataset = pd.read_csv(\"MD_agric_exam-4313.csv\")\n",
    "dataset.head()"
   ]
  },
  {
   "cell_type": "code",
   "execution_count": 3,
   "id": "4a36e73a",
   "metadata": {},
   "outputs": [
    {
     "data": {
      "text/plain": [
       "(8, 8)"
      ]
     },
     "execution_count": 3,
     "metadata": {},
     "output_type": "execute_result"
    }
   ],
   "source": [
    "# Unique Crop Types in the dataset \n",
    "crops = dataset.Crop_type.unique()\n",
    "\n",
    "n_crops = dataset.Crop_type.nunique()\n",
    "\n",
    "n_crops, len(crops)"
   ]
  },
  {
   "cell_type": "code",
   "execution_count": 4,
   "id": "8c3a3a9c",
   "metadata": {},
   "outputs": [
    {
     "data": {
      "text/plain": [
       "np.float64(8.994376295629458)"
      ]
     },
     "execution_count": 4,
     "metadata": {},
     "output_type": "execute_result"
    }
   ],
   "source": [
    "# Maximum Annual Yield for the Crop_type = Wheat \n",
    "\n",
    "# Filter by Crop_type\n",
    "wheat_df = dataset[dataset.Crop_type == \"wheat\"]\n",
    "\n",
    "# Get maximum Annual_yield \n",
    "wheat_df.Annual_yield.max()"
   ]
  },
  {
   "cell_type": "code",
   "execution_count": 5,
   "id": "04cc413b",
   "metadata": {},
   "outputs": [
    {
     "data": {
      "text/html": [
       "<div>\n",
       "<style scoped>\n",
       "    .dataframe tbody tr th:only-of-type {\n",
       "        vertical-align: middle;\n",
       "    }\n",
       "\n",
       "    .dataframe tbody tr th {\n",
       "        vertical-align: top;\n",
       "    }\n",
       "\n",
       "    .dataframe thead th {\n",
       "        text-align: right;\n",
       "    }\n",
       "</style>\n",
       "<table border=\"1\" class=\"dataframe\">\n",
       "  <thead>\n",
       "    <tr style=\"text-align: right;\">\n",
       "      <th></th>\n",
       "      <th>Field_ID</th>\n",
       "      <th>Elevation</th>\n",
       "      <th>Rainfall</th>\n",
       "      <th>Min_temperature_C</th>\n",
       "      <th>Max_temperature_C</th>\n",
       "      <th>pH</th>\n",
       "      <th>Pollution_level</th>\n",
       "      <th>Plot_size</th>\n",
       "      <th>Annual_yield</th>\n",
       "      <th>Crop_type</th>\n",
       "    </tr>\n",
       "  </thead>\n",
       "  <tbody>\n",
       "    <tr>\n",
       "      <th>0</th>\n",
       "      <td>1162</td>\n",
       "      <td>494.95615</td>\n",
       "      <td>1507.6</td>\n",
       "      <td>-5.4</td>\n",
       "      <td>31.0</td>\n",
       "      <td>6.859436</td>\n",
       "      <td>0.007034</td>\n",
       "      <td>3.6</td>\n",
       "      <td>1.617421</td>\n",
       "      <td>coffee</td>\n",
       "    </tr>\n",
       "  </tbody>\n",
       "</table>\n",
       "</div>"
      ],
      "text/plain": [
       "   Field_ID  Elevation  Rainfall  Min_temperature_C  Max_temperature_C  \\\n",
       "0      1162  494.95615    1507.6               -5.4               31.0   \n",
       "\n",
       "         pH  Pollution_level  Plot_size  Annual_yield Crop_type  \n",
       "0  6.859436         0.007034        3.6      1.617421    coffee  "
      ]
     },
     "execution_count": 5,
     "metadata": {},
     "output_type": "execute_result"
    }
   ],
   "source": [
    "dataset.head(1)"
   ]
  },
  {
   "cell_type": "code",
   "execution_count": 6,
   "id": "58ce6f14",
   "metadata": {},
   "outputs": [
    {
     "data": {
      "text/plain": [
       "np.float64(478902.6)"
      ]
     },
     "execution_count": 6,
     "metadata": {},
     "output_type": "execute_result"
    }
   ],
   "source": [
    "# Find the total rainfall for crop types where the average pollution level is above 0.2. \n",
    "\n",
    "# Filter for pollution level > 0.2\n",
    "filtered_pollution_df = dataset[dataset.Pollution_level > 0.2] \n",
    "\n",
    "# Get the total rainfal \n",
    "total_rainfall = filtered_pollution_df.Rainfall.sum()\n",
    "total_rainfall"
   ]
  },
  {
   "cell_type": "code",
   "execution_count": 59,
   "id": "dec11474",
   "metadata": {},
   "outputs": [
    {
     "name": "stdout",
     "output_type": "stream",
     "text": [
      "40.7\n",
      "35.7\n",
      "33.4\n"
     ]
    }
   ],
   "source": [
    "# Write a function to calculate the temperature range (Max_temperature_C - Min_temperature_C) for each farmer's field. \n",
    "# Then, call the function with the following `Field_ID`: `1458`, `1895`, and `5443`. What are the results of these 3 calls? \n",
    "\n",
    "def calc_temp_range(Field_ID: int = None) -> int:\n",
    "    \"\"\"\n",
    "    Function used to calculte Temperature Range (Max_temperature_C - Min_temperature_C) \n",
    "\n",
    "    Args:\n",
    "        Field_ID (int): A string containing the field ID \n",
    "\n",
    "    Returns:\n",
    "        range (int): The difference between Max_temperature_C and Min_temperature_C\n",
    "    \"\"\"\n",
    "    if Field_ID is not None:\n",
    "        try:\n",
    "            # Extract Min_temperature_C and Max_temperature_C for the provided field_ID \n",
    "            filtered_dataset = dataset[dataset.Field_ID == Field_ID]\n",
    "            Min_temperature_C = filtered_dataset.Min_temperature_C.iloc[0]\n",
    "            Max_temperature_C = filtered_dataset.Max_temperature_C.iloc[0]\n",
    "\n",
    "        except IndexError as e:\n",
    "            # Throw the error incase the \"Field_ID\" was wrong\n",
    "            return (f\"{e}\") \n",
    "\n",
    "        else:\n",
    "            # Since there are no exceptions, calculate and return the range   \n",
    "            return Max_temperature_C - Min_temperature_C\n",
    "        \n",
    "    else:\n",
    "        return \"Field_ID Not Provided\"\n",
    "\n",
    "\n",
    "# lOOP THROUGH EACH ID AND PRINT THE RANGE\n",
    "Field_IDs = [1458, 1895, 5443] \n",
    "\n",
    "for Field_ID in Field_IDs:\n",
    "    temp_range = calc_temp_range(Field_ID=Field_ID) \n",
    "    print(temp_range)\n"
   ]
  },
  {
   "cell_type": "code",
   "execution_count": 63,
   "id": "46edeb0c",
   "metadata": {},
   "outputs": [
    {
     "data": {
      "text/plain": [
       "np.float64(1731.8999999999999)"
      ]
     },
     "execution_count": 63,
     "metadata": {},
     "output_type": "execute_result"
    }
   ],
   "source": [
    "# Write code to calculate the total plot size for plots where the pH is less than 5.5. \n",
    "\n",
    "# FILTER PLOTS WITH pH LESS THAN 5.5 \n",
    "# THEN GET SUM OF PLOT SIZE\n",
    "filtered_pH_df = dataset[dataset.pH < 5.5] \n",
    "\n",
    "total_plot_size = filtered_pH_df.Plot_size.sum() \n",
    "\n",
    "total_plot_size"
   ]
  },
  {
   "cell_type": "code",
   "execution_count": 66,
   "id": "de5963a3",
   "metadata": {},
   "outputs": [
    {
     "data": {
      "text/plain": [
       "319"
      ]
     },
     "execution_count": 66,
     "metadata": {},
     "output_type": "execute_result"
    }
   ],
   "source": [
    "# Using Pandas, create a dataframe that includes entries with a 'Min_temperature_C’< -5 and a 'Max_temperature_C' > 30. \n",
    "# How many rows are in the filtered dataset? \n",
    "\n",
    "# FILTER BASED ON THE MIN AND MAX TEMPERATURE AS REQUIRED (Min_temp <-5 & Max_temp >30)\n",
    "filtered_temp_df = dataset[(dataset.Min_temperature_C < -5) & (dataset.Max_temperature_C > 30)] \n",
    "\n",
    "# GET THE NUMBER OF ROWS\n",
    "filtered_temp_df.shape[0]"
   ]
  },
  {
   "cell_type": "code",
   "execution_count": 72,
   "id": "70c8fa66",
   "metadata": {},
   "outputs": [
    {
     "data": {
      "text/plain": [
       "np.float64(469.6199685856172)"
      ]
     },
     "execution_count": 72,
     "metadata": {},
     "output_type": "execute_result"
    }
   ],
   "source": [
    "# Using Numpy, calculate the standard deviation of the 'Rainfall' for plots \n",
    "# where the 'Plot_size' is larger than the median plot size of the dataset (round to 2 decimal places). \n",
    "\n",
    "# Filter records where plot size is larger than Median plot size\n",
    "median_plot_size = dataset.Plot_size.median() \n",
    "filtered_plots_df = dataset[dataset.Plot_size > median_plot_size] \n",
    "\n",
    "# Extract rainfall values\n",
    "rainfall_values = filtered_plots_df.Rainfall \n",
    "\n",
    "# Calculate STD \n",
    "std = np.std(rainfall_values) \n",
    "\n",
    "std\n",
    "\n"
   ]
  },
  {
   "cell_type": "code",
   "execution_count": 91,
   "id": "63479e8a",
   "metadata": {},
   "outputs": [
    {
     "data": {
      "text/plain": [
       "'30.ice'"
      ]
     },
     "execution_count": 91,
     "metadata": {},
     "output_type": "execute_result"
    }
   ],
   "source": [
    "# If you concatenate the first three digits of the most common ‘Max_temperature_C’ with the last three letters of the least common 'Crop_type', what string do you get?\n",
    "# Note: Use the first mode if there are multiple modes\n",
    "\n",
    "# Extract the Most Common Max_temperature_C and least common Crop_type\n",
    "most_common_Max_temperature_C = dataset.Max_temperature_C.mode().iloc[0]\n",
    "least_common_Crop_type = dataset.Crop_type.value_counts(ascending=True).index[0]\n",
    "\n",
    "# First three digits of most common Max_temperature_C \n",
    "first_three_digits = str(most_common_Max_temperature_C)[0:3]\n",
    "\n",
    "# Last three letters of the least commong Crop_type \n",
    "last_three_letters = least_common_Crop_type[-3:]\n",
    "\n",
    "# Concatenative the strings \n",
    "first_three_digits + last_three_letters\n"
   ]
  },
  {
   "cell_type": "code",
   "execution_count": null,
   "id": "00122a96",
   "metadata": {},
   "outputs": [
    {
     "data": {
      "text/html": [
       "<div>\n",
       "<style scoped>\n",
       "    .dataframe tbody tr th:only-of-type {\n",
       "        vertical-align: middle;\n",
       "    }\n",
       "\n",
       "    .dataframe tbody tr th {\n",
       "        vertical-align: top;\n",
       "    }\n",
       "\n",
       "    .dataframe thead th {\n",
       "        text-align: right;\n",
       "    }\n",
       "</style>\n",
       "<table border=\"1\" class=\"dataframe\">\n",
       "  <thead>\n",
       "    <tr style=\"text-align: right;\">\n",
       "      <th></th>\n",
       "      <th>Field_ID</th>\n",
       "      <th>Elevation</th>\n",
       "      <th>Rainfall</th>\n",
       "      <th>Min_temperature_C</th>\n",
       "      <th>Max_temperature_C</th>\n",
       "      <th>pH</th>\n",
       "      <th>Pollution_level</th>\n",
       "      <th>Plot_size</th>\n",
       "      <th>Annual_yield</th>\n",
       "      <th>Crop_type</th>\n",
       "      <th>Elevation_Range</th>\n",
       "    </tr>\n",
       "  </thead>\n",
       "  <tbody>\n",
       "    <tr>\n",
       "      <th>0</th>\n",
       "      <td>1162</td>\n",
       "      <td>494.95615</td>\n",
       "      <td>1507.6</td>\n",
       "      <td>-5.4</td>\n",
       "      <td>31.0</td>\n",
       "      <td>6.859436</td>\n",
       "      <td>0.007034</td>\n",
       "      <td>3.6</td>\n",
       "      <td>1.617421</td>\n",
       "      <td>coffee</td>\n",
       "      <td>Medium</td>\n",
       "    </tr>\n",
       "    <tr>\n",
       "      <th>1</th>\n",
       "      <td>5108</td>\n",
       "      <td>663.73390</td>\n",
       "      <td>581.0</td>\n",
       "      <td>-4.7</td>\n",
       "      <td>30.9</td>\n",
       "      <td>5.603219</td>\n",
       "      <td>0.289643</td>\n",
       "      <td>4.2</td>\n",
       "      <td>2.532497</td>\n",
       "      <td>potato</td>\n",
       "      <td>High</td>\n",
       "    </tr>\n",
       "    <tr>\n",
       "      <th>2</th>\n",
       "      <td>3504</td>\n",
       "      <td>396.87990</td>\n",
       "      <td>1715.1</td>\n",
       "      <td>-6.1</td>\n",
       "      <td>31.7</td>\n",
       "      <td>5.774116</td>\n",
       "      <td>0.000409</td>\n",
       "      <td>2.6</td>\n",
       "      <td>1.262207</td>\n",
       "      <td>banana</td>\n",
       "      <td>Medium</td>\n",
       "    </tr>\n",
       "    <tr>\n",
       "      <th>3</th>\n",
       "      <td>5351</td>\n",
       "      <td>594.80370</td>\n",
       "      <td>1748.0</td>\n",
       "      <td>-4.3</td>\n",
       "      <td>33.6</td>\n",
       "      <td>6.477415</td>\n",
       "      <td>0.088777</td>\n",
       "      <td>7.9</td>\n",
       "      <td>4.351564</td>\n",
       "      <td>wheat</td>\n",
       "      <td>Medium</td>\n",
       "    </tr>\n",
       "    <tr>\n",
       "      <th>4</th>\n",
       "      <td>905</td>\n",
       "      <td>609.49800</td>\n",
       "      <td>1395.8</td>\n",
       "      <td>-4.5</td>\n",
       "      <td>31.3</td>\n",
       "      <td>5.419586</td>\n",
       "      <td>0.050023</td>\n",
       "      <td>10.8</td>\n",
       "      <td>5.034791</td>\n",
       "      <td>cassava</td>\n",
       "      <td>High</td>\n",
       "    </tr>\n",
       "  </tbody>\n",
       "</table>\n",
       "</div>"
      ],
      "text/plain": [
       "   Field_ID  Elevation  Rainfall  Min_temperature_C  Max_temperature_C  \\\n",
       "0      1162  494.95615    1507.6               -5.4               31.0   \n",
       "1      5108  663.73390     581.0               -4.7               30.9   \n",
       "2      3504  396.87990    1715.1               -6.1               31.7   \n",
       "3      5351  594.80370    1748.0               -4.3               33.6   \n",
       "4       905  609.49800    1395.8               -4.5               31.3   \n",
       "\n",
       "         pH  Pollution_level  Plot_size  Annual_yield Crop_type  \\\n",
       "0  6.859436         0.007034        3.6      1.617421    coffee   \n",
       "1  5.603219         0.289643        4.2      2.532497    potato   \n",
       "2  5.774116         0.000409        2.6      1.262207    banana   \n",
       "3  6.477415         0.088777        7.9      4.351564     wheat   \n",
       "4  5.419586         0.050023       10.8      5.034791   cassava   \n",
       "\n",
       "  Elevation_Range  \n",
       "0          Medium  \n",
       "1            High  \n",
       "2          Medium  \n",
       "3          Medium  \n",
       "4            High  "
      ]
     },
     "execution_count": 98,
     "metadata": {},
     "output_type": "execute_result"
    }
   ],
   "source": [
    "# Write Python code to create a violin plot visualising the distribution of 'Annual_yield' across different 'Elevation' ranges. \n",
    "# Use the provided elevation range categories (Low: < 300m, Medium: 300m - 600m, High: > 600m) to categorise the data before plotting.  \n",
    "# Examine the violin plot displaying the distribution of 'Annual Yield' across three elevation categories (Low, Medium, High). \n",
    "# What insight does the violin plot provide regarding the relationship between elevation ranges and annual yield distribution? \n",
    "\n",
    "def create_elevation_ranges(elevation: float):\n",
    "    \"\"\" \n",
    "    This function will be used to categorized elevation ranges as follows; \n",
    "\n",
    "    Where elevation; \n",
    "        less_than 300 -- Low\n",
    "        greater_than_or_equal_to 300 -- Medium \n",
    "        greater_than 600 -- High \n",
    "\n",
    "    Args:\n",
    "        elevation (float): Elevation Value to be categorized \n",
    "\n",
    "    Example:\n",
    "        create_elevation_ranges(300) --> Medium\n",
    "\n",
    "        create_elevation_ranges(601) --> High\n",
    "    \"\"\" \n",
    "\n",
    "    if elevation < 300:\n",
    "        return \"Low\"     \n",
    "    elif elevation <= 600:\n",
    "        return \"Medium\"     \n",
    "    else:\n",
    "        return \"High\" \n",
    "    \n",
    "\n",
    "# APPLY THE FUNCTION TO PRODUCE RANGES \n",
    "dataset[\"Elevation_Range\"] = dataset.Elevation.apply(create_elevation_ranges) "
   ]
  },
  {
   "cell_type": "code",
   "execution_count": 104,
   "id": "87a52abb",
   "metadata": {},
   "outputs": [
    {
     "data": {
      "text/plain": [
       "Text(0.5, 1.0, 'Distribution of Annual Yield Across Different Elevation Ranges')"
      ]
     },
     "execution_count": 104,
     "metadata": {},
     "output_type": "execute_result"
    },
    {
     "data": {
      "image/png": "[encoded data removed]",
      "text/plain": [
       "<Figure size 640x480 with 1 Axes>"
      ]
     },
     "metadata": {},
     "output_type": "display_data"
    }
   ],
   "source": [
    "sns.violinplot(data=dataset, x=\"Elevation_Range\", y=\"Annual_yield\")\n",
    "plt.title(\"Distribution of Annual Yield Across Different Elevation Ranges\")\n"
   ]
  },
  {
   "cell_type": "code",
   "execution_count": null,
   "id": "42c39d6f",
   "metadata": {},
   "outputs": [],
   "source": []
  }
 ],
 "metadata": {
  "kernelspec": {
   "display_name": "env (3.11.2)",
   "language": "python",
   "name": "python3"
  },
  "language_info": {
   "codemirror_mode": {
    "name": "ipython",
    "version": 3
   },
   "file_extension": ".py",
   "mimetype": "text/x-python",
   "name": "python",
   "nbconvert_exporter": "python",
   "pygments_lexer": "ipython3",
   "version": "3.11.2"
  }
 },
 "nbformat": 4,
 "nbformat_minor": 5
}
