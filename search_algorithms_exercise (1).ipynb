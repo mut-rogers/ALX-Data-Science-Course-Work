{
 "cells": [
  {
   "cell_type": "markdown",
   "metadata": {
    "id": "Ee-v8I_P8rfp"
   },
   "source": [
    "<div align=\"center\" style=\" font-size: 80%; text-align: center; margin: 0 auto\">\n",
    "<img src=\"https://raw.githubusercontent.com/Explore-AI/Pictures/master/Python-Notebook-Banners/Exercise.png\"  style=\"display: block; margin-left: auto; margin-right: auto;\";/>\n",
    "</div>\n",
    "\n",
    "# Exercise: Search Algorithms\n",
    "\n",
    "\n",
    "In this exercise, we will reinforce our knowledge of the fundamental concepts of search algorithms through a series of practical exercises.\n"
   ]
  },
  {
   "cell_type": "markdown",
   "metadata": {
    "id": "ITqrvAqq8xSC"
   },
   "source": [
    "## Learning objectives\n",
    "\n",
    "By the end of this train, you should be able to:\n",
    "* Implement linear and binary search algorithms.\n"
   ]
  },
  {
   "cell_type": "markdown",
   "metadata": {},
   "source": [
    "## Exercises"
   ]
  },
  {
   "cell_type": "markdown",
   "metadata": {},
   "source": [
    "### Exercise 1"
   ]
  },
  {
   "cell_type": "markdown",
   "metadata": {},
   "source": [
    "Using the below pseudocode as a guide for implementation. Write a basic linear search function.\n",
    "\n",
    "```python\n",
    "# Pseudocode\n",
    "procedure linear_search( list, target )\n",
    "    for each element in the list\n",
    "        if the element equals the target\n",
    "            return its index\n",
    "\n",
    "    return not found\n",
    "end procedure\n",
    "```"
   ]
  },
  {
   "cell_type": "code",
   "execution_count": 4,
   "metadata": {},
   "outputs": [],
   "source": [
    "# Your solution here... \n",
    "def linear_search(list: list, target_value: any) -> any:\n",
    "    # We loop through each element, and return the index of \n",
    "    # the target value \n",
    "    for index, value in enumerate(list):\n",
    "        if value == target_value:\n",
    "            return index\n",
    "        else:\n",
    "            continue\n",
    "    return -1"
   ]
  },
  {
   "cell_type": "markdown",
   "metadata": {},
   "source": [
    "Given the below data, use the `linear_search` function to search for the target value.\n",
    "\n",
    "`my_list = [1, 3, 5, 7, 9]`\n",
    "\n",
    "`target_value = 5`"
   ]
  },
  {
   "cell_type": "code",
   "execution_count": 6,
   "metadata": {},
   "outputs": [
    {
     "data": {
      "text/plain": [
       "-1"
      ]
     },
     "execution_count": 6,
     "metadata": {},
     "output_type": "execute_result"
    }
   ],
   "source": [
    "# Your solution here... \n",
    "my_list = [1, 3, 5, 7, 9]\n",
    "target_value = 8\n",
    "\n",
    "linear_search(list=my_list, target_value=target_value)"
   ]
  },
  {
   "cell_type": "markdown",
   "metadata": {},
   "source": [
    "### Exercise 2\n",
    "\n",
    "Naturally, we can adapt the linear search algorithm to return all the occurrences and/or count the number of occurrences by adding a running counter and moving the return statement.\n",
    "\n",
    "Write a linear search function that counts the number of occurrences of a searched item."
   ]
  },
  {
   "cell_type": "code",
   "execution_count": 8,
   "metadata": {},
   "outputs": [],
   "source": [
    "# Your solution here...\n",
    "def linear_search_count(input_list: list, target_value: any) -> int:\n",
    "    counter: int = 0 \n",
    "    for element in input_list:\n",
    "        if element == target_value:\n",
    "            counter += 1\n",
    "        else:\n",
    "            continue\n",
    "    return -1\n"
   ]
  },
  {
   "cell_type": "markdown",
   "metadata": {},
   "source": [
    "Count the number of times the target value appears in the list below.\n",
    "\n",
    "`my_list = [1, 3, 5, 3, 7, 9, 3]`\n",
    "\n",
    "`target_value = 3`\n"
   ]
  },
  {
   "cell_type": "code",
   "execution_count": 9,
   "metadata": {},
   "outputs": [
    {
     "data": {
      "text/plain": [
       "-1"
      ]
     },
     "execution_count": 9,
     "metadata": {},
     "output_type": "execute_result"
    }
   ],
   "source": [
    "# Your solution here... \n",
    "linear_search_count(my_list,3)"
   ]
  },
  {
   "cell_type": "markdown",
   "metadata": {},
   "source": [
    "### Exercise 3"
   ]
  },
  {
   "cell_type": "markdown",
   "metadata": {},
   "source": [
    "Using the below pseudocode as a guide for implementation. Write a basic recursive implementation of a binary search function.\n",
    "\n",
    "```python\n",
    "# Pseudocode\n",
    "procedure binary_search_recur( list items, target )\n",
    "\n",
    "    find the midpoint of items\n",
    "\n",
    "    if length of items == 1 then\n",
    "        return midpoint if midpoint is equal to the target value, otherwise return False\n",
    "    else if midpoint item == target\n",
    "        return midpoint\n",
    "    else\n",
    "        # Recursively divide the sublists further.\n",
    "        if midpoint item < target\n",
    "            call binary_search_recur on right side sublist and target value\n",
    "            return midpoint + call if the call is not False, otherwise return False\n",
    "        else\n",
    "            return call binary_search_recur on left side sublist and target value\n",
    "end procedure\n",
    "```"
   ]
  },
  {
   "cell_type": "code",
   "execution_count": null,
   "metadata": {},
   "outputs": [],
   "source": [
    "# Your solution here...\n",
    "def binary_search_recur(input_list: list, target: any, start_index: int, end_index: int) -> int:\n",
    "    \"\"\"Function will be used used to impelement a binary search function using the Recursion approach\n",
    "        \n",
    "        Args:\n",
    "            input_list (list): a list where the target_value is to be searched.\n",
    "\n",
    "            target (any): the value to be searched.\n",
    "\n",
    "            start_index (int): the current start index of the list/sublist being evaluated. \n",
    "        \n",
    "            end_index (int): the current end index of the list/sublist being evaluated.\n",
    "        \n",
    "        Returns:\n",
    "            (int): the position of the target value or -1 if the target_value was not found.\n",
    "    \"\"\" \n",
    "\n",
    "    # Incase the start index is greater than end_index\n",
    "    # we terminate execution (our work is done)\n",
    "    if start_index > end_index:\n",
    "        return -1\n",
    "    \n",
    "    # define the mid point for the purpose of halving the \n",
    "    # input list\n",
    "    mid_point: int = (start_index + end_index) // 2 \n",
    "\n",
    "    # if the target value is equal to the midpoint value\n",
    "    # we have found the index\n",
    "    if target == input_list[mid_point]:\n",
    "        return mid_point\n",
    "\n",
    "    # If the target value is greater than the midpoint value\n",
    "    # we continue with the right half\n",
    "    # otherwise we continue with the left half\n",
    "    elif target > input_list[mid_point]:\n",
    "        return binary_search_recur(input_list=input_list, target=target, start_index=mid_point+1, end_index=end_index) \n",
    "    \n",
    "    else:\n",
    "        return binary_search_recur(input_list=input_list, target=target, start_index=start_index, end_index=mid_point-1)"
   ]
  },
  {
   "cell_type": "markdown",
   "metadata": {},
   "source": [
    "Given the below data, use the `binary_search_recur` function to search for the target value. \n",
    "\n",
    "`my_list = [1, 3, 5, 7, 9, 11, 13, 15, 17]`\n",
    "\n",
    "`target_value = 13`"
   ]
  },
  {
   "cell_type": "code",
   "execution_count": 16,
   "metadata": {},
   "outputs": [
    {
     "data": {
      "text/plain": [
       "-1"
      ]
     },
     "execution_count": 16,
     "metadata": {},
     "output_type": "execute_result"
    }
   ],
   "source": [
    "# Your solution here...\n",
    "my_list = [1, 3, 5, 7, 9, 11, 13, 15, 17]\n",
    "target_value = 166\n",
    "\n",
    "binary_search_recur(my_list, target=target_value, start_index=0, end_index=len(my_list)-1)"
   ]
  },
  {
   "cell_type": "markdown",
   "metadata": {},
   "source": [
    "### Exercise 4\n",
    "\n",
    "Using the below pseudocode as a guide for implementation. Write a basic iterative implementation of a binary search function.\n",
    "\n",
    "```python\n",
    "# Pseudocode\n",
    "procedure binary_search_iter( list items, target )\n",
    "\n",
    "    initialise start value as zero\n",
    "    initialise end value as length(items) - 1\n",
    "\n",
    "    while start value <= end value then continue\n",
    "        mid value = (start + end) divided by 2 (floor division)\n",
    "\n",
    "        if target == mid item then\n",
    "            return mid value\n",
    "\n",
    "        if target < mid item then\n",
    "            end = mid - 1\n",
    "        else then\n",
    "            start = mid + 1\n",
    "\n",
    "    return when not found as False\n",
    "end procedure\n",
    "```"
   ]
  },
  {
   "cell_type": "code",
   "execution_count": 20,
   "metadata": {},
   "outputs": [],
   "source": [
    "# Your solution here...\n",
    "\n",
    "def binary_search_iter(input_list: list, target_value: any) -> int:\n",
    "    \"\"\"\n",
    "    This function implements the Binary Search Algorithmn\n",
    "    using the Iterative approach.\n",
    "\n",
    "    Args:\n",
    "        input_list (list): A list of items where the search will be done.\n",
    "\n",
    "        target_value (any): The value to be searched\n",
    "\n",
    "    Returns:\n",
    "        (int): The index of the target_value or -1 if the value was not found in the input_list\n",
    "    \"\"\" \n",
    "\n",
    "    # define start and end index of the input_list/sub_list that is being\n",
    "    # evaluated \n",
    "    start_index: int = 0 \n",
    "    end_index: int = len(input_list) - 1\n",
    "\n",
    "    # As long as the start index is less than or equal to the end index,\n",
    "    # we keep searching\n",
    "    while start_index <= end_index:\n",
    "\n",
    "        # define the midpoint of the current substring being evaluated\n",
    "        mid_point = (start_index + end_index) // 2 \n",
    "\n",
    "        # if the midpoint value is equal to the target value\n",
    "        # we have found the index for the target value \n",
    "        if target_value == input_list[mid_point]:\n",
    "            return mid_point \n",
    "        \n",
    "        # if the target_value is greater than the midpoint value \n",
    "        # the we use the half on the right side as follows \n",
    "        # we therefore shift start_index to mid_point+1\n",
    "        elif target_value > input_list[mid_point]: \n",
    "            start_index = mid_point + 1 \n",
    "\n",
    "        else:\n",
    "            end_index = mid_point - 1\n",
    "\n",
    "    return -1"
   ]
  },
  {
   "cell_type": "markdown",
   "metadata": {},
   "source": [
    "Given the below data, use the `binary_search_iter` function to search for the target value.\n",
    "\n",
    "`my_list = [1, 3, 5, 7, 9, 11, 13, 15, 17]`\n",
    "\n",
    "`target_value = 13`"
   ]
  },
  {
   "cell_type": "code",
   "execution_count": 22,
   "metadata": {},
   "outputs": [
    {
     "data": {
      "text/plain": [
       "7"
      ]
     },
     "execution_count": 22,
     "metadata": {},
     "output_type": "execute_result"
    }
   ],
   "source": [
    "# Your solution here... \n",
    "\n",
    "my_list = [1, 3, 5, 7, 11, 13, 15, 17] \n",
    "target_value = 17 \n",
    "\n",
    "binary_search_iter(input_list=my_list, target_value=target_value)"
   ]
  },
  {
   "cell_type": "markdown",
   "metadata": {},
   "source": [
    "## Solutions"
   ]
  },
  {
   "cell_type": "markdown",
   "metadata": {},
   "source": [
    "### Exercise 1"
   ]
  },
  {
   "cell_type": "code",
   "execution_count": null,
   "metadata": {},
   "outputs": [],
   "source": [
    "def linear_search(lst, target):\n",
    "    for index, element in enumerate(lst):\n",
    "        if element == target:\n",
    "            return index\n",
    "\n",
    "    return -1  # return the last element if not found"
   ]
  },
  {
   "cell_type": "code",
   "execution_count": null,
   "metadata": {},
   "outputs": [],
   "source": [
    "my_list = [1, 3, 5, 7, 9]\n",
    "target_value = 5\n",
    "\n",
    "linear_search(my_list, target_value)"
   ]
  },
  {
   "cell_type": "markdown",
   "metadata": {},
   "source": [
    "In this solution, the linear_search function takes a list (`lst`) and a target value (`target`). It iterates through each element in the list using enumerate, checks if the current element is equal to the target, and returns the index if a match is found. If no match is found after the loop, it returns -1 to indicate that the target is not present in the list."
   ]
  },
  {
   "cell_type": "markdown",
   "metadata": {},
   "source": [
    "### Exercise 2"
   ]
  },
  {
   "cell_type": "code",
   "execution_count": null,
   "metadata": {},
   "outputs": [],
   "source": [
    "def linear_search_count(lst, target):\n",
    "    count = 0\n",
    "\n",
    "    for element in lst:\n",
    "        if element == target:\n",
    "            count += 1\n",
    "\n",
    "    return count"
   ]
  },
  {
   "cell_type": "code",
   "execution_count": null,
   "metadata": {},
   "outputs": [],
   "source": [
    "my_list = [1, 3, 5, 3, 7, 9, 3]\n",
    "target_value = 3\n",
    "\n",
    "linear_search_count(my_list, target_value)"
   ]
  },
  {
   "cell_type": "markdown",
   "metadata": {},
   "source": [
    "In this version, a count variable is initialized to 0 before the loop. Inside the loop, whenever the current element matches the target, the count is incremented. After the loop, the function returns the final count, indicating how many times the target appears in the list."
   ]
  },
  {
   "cell_type": "markdown",
   "metadata": {},
   "source": [
    "### Exercise 3"
   ]
  },
  {
   "cell_type": "code",
   "execution_count": null,
   "metadata": {},
   "outputs": [],
   "source": [
    "def binary_search_recur(items, target):\n",
    "    \n",
    "    mid = len(items) // 2\n",
    "    \n",
    "    if len(items) == 1:\n",
    "        return mid if items[mid] == target else False\n",
    "    elif items[mid] == target:\n",
    "        return mid\n",
    "    else:\n",
    "        if items[mid] < target:\n",
    "            callback_response = binary_search_recur(items[mid:], target)\n",
    "            return mid + callback_response if callback_response is not False else False\n",
    "        else:\n",
    "            return binary_search_recur(items[:mid], target)\n",
    "\n"
   ]
  },
  {
   "cell_type": "code",
   "execution_count": null,
   "metadata": {},
   "outputs": [],
   "source": [
    "my_list = [1, 3, 5, 7, 9, 11, 13, 15, 17]\n",
    "target_value = 13\n",
    "\n",
    "binary_search_recur(my_list, target_value)"
   ]
  },
  {
   "cell_type": "markdown",
   "metadata": {},
   "source": [
    "This function `binary_search_recur` takes a sorted list (`items`) and a target value (`target`). It recursively searches for the target in the list, dividing it into halves and narrowing down the search space based on the comparison with the midpoint. If the target is found, it returns the index; otherwise, it returns False."
   ]
  },
  {
   "cell_type": "markdown",
   "metadata": {},
   "source": [
    "### Exercise 4"
   ]
  },
  {
   "cell_type": "code",
   "execution_count": null,
   "metadata": {},
   "outputs": [],
   "source": [
    "def binary_search_iter(items, target):\n",
    "    start = 0\n",
    "    end = len(items) - 1\n",
    "\n",
    "    while start <= end:\n",
    "        mid = (start + end) // 2\n",
    "\n",
    "        if items[mid] == target:\n",
    "            return mid\n",
    "\n",
    "        if target < items[mid]:\n",
    "            end = mid - 1\n",
    "        else:\n",
    "            start = mid + 1\n",
    "\n",
    "    return False"
   ]
  },
  {
   "cell_type": "code",
   "execution_count": null,
   "metadata": {},
   "outputs": [],
   "source": [
    "my_list = [1, 3, 5, 7, 9, 11, 13, 15, 17]\n",
    "target_value = 13\n",
    "\n",
    "binary_search_iter(my_list, target_value)"
   ]
  },
  {
   "cell_type": "markdown",
   "metadata": {},
   "source": [
    "This function `binary_search_iter` takes a sorted list (`items`) and a target value (`target`). It iteratively searches for the target in the list by adjusting the start and end indices based on the comparison with the midpoint. If the target is found, it returns the index; otherwise, it returns False."
   ]
  },
  {
   "cell_type": "markdown",
   "metadata": {},
   "source": [
    "<div align=\"center\" style=\" font-size: 80%; text-align: center; margin: 0 auto\">\n",
    "<img src=\"https://raw.githubusercontent.com/Explore-AI/Pictures/refs/heads/master/ALX_banners/ALX_Navy.png\"  style=\"width:140px\";/>\n",
    "</div>"
   ]
  }
 ],
 "metadata": {
  "colab": {
   "authorship_tag": "ABX9TyPZFCZhaikX+N2/Bg7W6SY+",
   "collapsed_sections": [],
   "name": "Search_algorithms.ipynb",
   "provenance": [],
   "toc_visible": true
  },
  "kernelspec": {
   "display_name": "env (3.11.2)",
   "language": "python",
   "name": "python3"
  },
  "language_info": {
   "codemirror_mode": {
    "name": "ipython",
    "version": 3
   },
   "file_extension": ".py",
   "mimetype": "text/x-python",
   "name": "python",
   "nbconvert_exporter": "python",
   "pygments_lexer": "ipython3",
   "version": "3.11.2"
  }
 },
 "nbformat": 4,
 "nbformat_minor": 2
}
